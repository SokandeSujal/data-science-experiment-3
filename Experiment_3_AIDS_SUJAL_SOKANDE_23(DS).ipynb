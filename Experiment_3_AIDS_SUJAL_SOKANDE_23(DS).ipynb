{
  "nbformat": 4,
  "nbformat_minor": 0,
  "metadata": {
    "colab": {
      "provenance": []
    },
    "kernelspec": {
      "name": "python3",
      "display_name": "Python 3"
    },
    "language_info": {
      "name": "python"
    }
  },
  "cells": [
    {
      "cell_type": "code",
      "execution_count": 1,
      "metadata": {
        "id": "hhWksxh1MWUQ"
      },
      "outputs": [],
      "source": [
        "import pandas as pd\n",
        "import numpy as np"
      ]
    },
    {
      "cell_type": "code",
      "source": [
        "# Load the dataset\n",
        "url = 'https://archive.ics.uci.edu/ml/machine-learning-databases/heart-disease/processed.cleveland.data'\n",
        "columns = ['age', 'sex', 'cp', 'trestbps', 'chol', 'fbs', 'restecg', 'thalach', 'exang',\n",
        "           'oldpeak', 'slope', 'ca', 'thal', 'target']"
      ],
      "metadata": {
        "id": "UeZRl75IMc7D"
      },
      "execution_count": 2,
      "outputs": []
    },
    {
      "cell_type": "code",
      "source": [
        "# Load the data into a pandas dataframe\n",
        "data = pd.read_csv(url, header=None, names=columns, na_values='?')\n",
        "print(\"Dataset Loaded:\")\n",
        "print(data.head())"
      ],
      "metadata": {
        "colab": {
          "base_uri": "https://localhost:8080/"
        },
        "id": "rYiSZlJ0MhX3",
        "outputId": "ec494ddd-2c4e-4e35-9461-a1e31f84e5ff"
      },
      "execution_count": 3,
      "outputs": [
        {
          "output_type": "stream",
          "name": "stdout",
          "text": [
            "Dataset Loaded:\n",
            "    age  sex   cp  trestbps   chol  fbs  restecg  thalach  exang  oldpeak  \\\n",
            "0  63.0  1.0  1.0     145.0  233.0  1.0      2.0    150.0    0.0      2.3   \n",
            "1  67.0  1.0  4.0     160.0  286.0  0.0      2.0    108.0    1.0      1.5   \n",
            "2  67.0  1.0  4.0     120.0  229.0  0.0      2.0    129.0    1.0      2.6   \n",
            "3  37.0  1.0  3.0     130.0  250.0  0.0      0.0    187.0    0.0      3.5   \n",
            "4  41.0  0.0  2.0     130.0  204.0  0.0      2.0    172.0    0.0      1.4   \n",
            "\n",
            "   slope   ca  thal  target  \n",
            "0    3.0  0.0   6.0       0  \n",
            "1    2.0  3.0   3.0       2  \n",
            "2    2.0  2.0   7.0       1  \n",
            "3    3.0  0.0   3.0       0  \n",
            "4    1.0  0.0   3.0       0  \n"
          ]
        }
      ]
    },
    {
      "cell_type": "code",
      "source": [
        "# Checking for missing values\n",
        "print(\"Checking for missing values:\")\n",
        "print(data.isnull().sum())"
      ],
      "metadata": {
        "colab": {
          "base_uri": "https://localhost:8080/"
        },
        "id": "sVAebwjyMjBo",
        "outputId": "1c705df9-0da7-4d10-eacc-8efb4da8c464"
      },
      "execution_count": 4,
      "outputs": [
        {
          "output_type": "stream",
          "name": "stdout",
          "text": [
            "Checking for missing values:\n",
            "age         0\n",
            "sex         0\n",
            "cp          0\n",
            "trestbps    0\n",
            "chol        0\n",
            "fbs         0\n",
            "restecg     0\n",
            "thalach     0\n",
            "exang       0\n",
            "oldpeak     0\n",
            "slope       0\n",
            "ca          4\n",
            "thal        2\n",
            "target      0\n",
            "dtype: int64\n"
          ]
        }
      ]
    },
    {
      "cell_type": "code",
      "source": [
        "# Dropping rows with missing values\n",
        "data_cleaned = data.dropna()\n",
        "print(\"Missing values after dropping rows:\")\n",
        "print(data_cleaned.isnull().sum())"
      ],
      "metadata": {
        "colab": {
          "base_uri": "https://localhost:8080/"
        },
        "id": "GTx8lV_7Mkdt",
        "outputId": "1e3cc2a6-275d-4f1f-d982-daf941fe9b97"
      },
      "execution_count": 5,
      "outputs": [
        {
          "output_type": "stream",
          "name": "stdout",
          "text": [
            "Missing values after dropping rows:\n",
            "age         0\n",
            "sex         0\n",
            "cp          0\n",
            "trestbps    0\n",
            "chol        0\n",
            "fbs         0\n",
            "restecg     0\n",
            "thalach     0\n",
            "exang       0\n",
            "oldpeak     0\n",
            "slope       0\n",
            "ca          0\n",
            "thal        0\n",
            "target      0\n",
            "dtype: int64\n"
          ]
        }
      ]
    },
    {
      "cell_type": "code",
      "source": [
        "# Encoding categorical variables\n",
        "# Convert categorical variables to dummy variables using get_dummies\n",
        "data_encoded = pd.get_dummies(data_cleaned, columns=['cp', 'restecg', 'slope', 'thal'])\n",
        "print(\"Dataset after encoding categorical variables:\")\n",
        "print(data_encoded.head())"
      ],
      "metadata": {
        "colab": {
          "base_uri": "https://localhost:8080/"
        },
        "id": "oGEgiYdyMmkk",
        "outputId": "09a3e63a-d1c6-4789-8fb2-ee85083d6afd"
      },
      "execution_count": 6,
      "outputs": [
        {
          "output_type": "stream",
          "name": "stdout",
          "text": [
            "Dataset after encoding categorical variables:\n",
            "    age  sex  trestbps   chol  fbs  thalach  exang  oldpeak   ca  target  ...  \\\n",
            "0  63.0  1.0     145.0  233.0  1.0    150.0    0.0      2.3  0.0       0  ...   \n",
            "1  67.0  1.0     160.0  286.0  0.0    108.0    1.0      1.5  3.0       2  ...   \n",
            "2  67.0  1.0     120.0  229.0  0.0    129.0    1.0      2.6  2.0       1  ...   \n",
            "3  37.0  1.0     130.0  250.0  0.0    187.0    0.0      3.5  0.0       0  ...   \n",
            "4  41.0  0.0     130.0  204.0  0.0    172.0    0.0      1.4  0.0       0  ...   \n",
            "\n",
            "   cp_4.0  restecg_0.0  restecg_1.0  restecg_2.0  slope_1.0  slope_2.0  \\\n",
            "0   False        False        False         True      False      False   \n",
            "1    True        False        False         True      False       True   \n",
            "2    True        False        False         True      False       True   \n",
            "3   False         True        False        False      False      False   \n",
            "4   False        False        False         True       True      False   \n",
            "\n",
            "   slope_3.0  thal_3.0  thal_6.0  thal_7.0  \n",
            "0       True     False      True     False  \n",
            "1      False      True     False     False  \n",
            "2      False     False     False      True  \n",
            "3       True      True     False     False  \n",
            "4      False      True     False     False  \n",
            "\n",
            "[5 rows x 23 columns]\n"
          ]
        }
      ]
    },
    {
      "cell_type": "code",
      "source": [
        "# Encoding binary categorical variables using Label Encoding\n",
        "from sklearn.preprocessing import LabelEncoder\n",
        "labelencoder = LabelEncoder()"
      ],
      "metadata": {
        "id": "izLaZr3VNG9D"
      },
      "execution_count": 7,
      "outputs": []
    },
    {
      "cell_type": "code",
      "source": [
        "# Encode 'sex' and 'fbs' columns\n",
        "data_encoded['sex'] = labelencoder.fit_transform(data_encoded['sex'])\n",
        "data_encoded['fbs'] = labelencoder.fit_transform(data_encoded['fbs'])\n",
        "data_encoded['exang'] = labelencoder.fit_transform(data_encoded['exang'])"
      ],
      "metadata": {
        "id": "ftX1v18CNI0F"
      },
      "execution_count": 8,
      "outputs": []
    },
    {
      "cell_type": "code",
      "source": [
        "print(\"Dataset after label encoding binary variables:\")\n",
        "print(data_encoded.head())"
      ],
      "metadata": {
        "colab": {
          "base_uri": "https://localhost:8080/"
        },
        "id": "fqzSMS0-NKOD",
        "outputId": "0706ddc7-c59e-4312-8342-d184c0831bf3"
      },
      "execution_count": 9,
      "outputs": [
        {
          "output_type": "stream",
          "name": "stdout",
          "text": [
            "Dataset after label encoding binary variables:\n",
            "    age  sex  trestbps   chol  fbs  thalach  exang  oldpeak   ca  target  ...  \\\n",
            "0  63.0    1     145.0  233.0    1    150.0      0      2.3  0.0       0  ...   \n",
            "1  67.0    1     160.0  286.0    0    108.0      1      1.5  3.0       2  ...   \n",
            "2  67.0    1     120.0  229.0    0    129.0      1      2.6  2.0       1  ...   \n",
            "3  37.0    1     130.0  250.0    0    187.0      0      3.5  0.0       0  ...   \n",
            "4  41.0    0     130.0  204.0    0    172.0      0      1.4  0.0       0  ...   \n",
            "\n",
            "   cp_4.0  restecg_0.0  restecg_1.0  restecg_2.0  slope_1.0  slope_2.0  \\\n",
            "0   False        False        False         True      False      False   \n",
            "1    True        False        False         True      False       True   \n",
            "2    True        False        False         True      False       True   \n",
            "3   False         True        False        False      False      False   \n",
            "4   False        False        False         True       True      False   \n",
            "\n",
            "   slope_3.0  thal_3.0  thal_6.0  thal_7.0  \n",
            "0       True     False      True     False  \n",
            "1      False      True     False     False  \n",
            "2      False     False     False      True  \n",
            "3       True      True     False     False  \n",
            "4      False      True     False     False  \n",
            "\n",
            "[5 rows x 23 columns]\n"
          ]
        }
      ]
    },
    {
      "cell_type": "code",
      "source": [
        "# Save and export the encoded dataset\n",
        "data_encoded.to_csv('encoded_heart_disease_data.csv', index=False)\n",
        "print(\"Encoded dataset saved as 'encoded_heart_disease_data.csv'\")"
      ],
      "metadata": {
        "colab": {
          "base_uri": "https://localhost:8080/"
        },
        "id": "85oHugxtNLts",
        "outputId": "b94065fb-6fc4-4d84-eb3d-e41249c54738"
      },
      "execution_count": 10,
      "outputs": [
        {
          "output_type": "stream",
          "name": "stdout",
          "text": [
            "Encoded dataset saved as 'encoded_heart_disease_data.csv'\n"
          ]
        }
      ]
    },
    {
      "cell_type": "code",
      "source": [],
      "metadata": {
        "id": "u6uRetJpNNWm"
      },
      "execution_count": null,
      "outputs": []
    }
  ]
}